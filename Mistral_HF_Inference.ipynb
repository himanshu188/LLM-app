{
  "nbformat": 4,
  "nbformat_minor": 0,
  "metadata": {
    "colab": {
      "provenance": []
    },
    "kernelspec": {
      "name": "python3",
      "display_name": "Python 3"
    },
    "language_info": {
      "name": "python"
    }
  },
  "cells": [
    {
      "cell_type": "markdown",
      "source": [
        "# Import InferenceClient from HuggingFace"
      ],
      "metadata": {
        "id": "7lhdQrd7JZE0"
      }
    },
    {
      "cell_type": "code",
      "execution_count": 1,
      "metadata": {
        "id": "LNOjju0dOill"
      },
      "outputs": [],
      "source": [
        "from huggingface_hub import InferenceClient"
      ]
    },
    {
      "cell_type": "code",
      "source": [
        "# Use HuggingFace token here\n",
        "client = InferenceClient(\n",
        "    \"mistralai/Mistral-7B-Instruct-v0.1\", \"hf_xxxx\"\n",
        ")"
      ],
      "metadata": {
        "id": "KFbl3d95OsX_"
      },
      "execution_count": 2,
      "outputs": []
    },
    {
      "cell_type": "markdown",
      "source": [
        "# Format the Prompt Template as per Mistral-7B Instruct model"
      ],
      "metadata": {
        "id": "w0Yk3G6tJgt1"
      }
    },
    {
      "cell_type": "code",
      "source": [
        "def format_prompt(message, history):\n",
        "  prompt = \"<s>\"\n",
        "  for user_prompt, bot_response in history:\n",
        "    prompt += f\"[INST] {user_prompt} [/INST]\"\n",
        "    prompt += f\" {bot_response}</s> \"\n",
        "  prompt += f\"[INST] {message} [/INST]\"\n",
        "  return prompt"
      ],
      "metadata": {
        "id": "2xrnKTb2Os-9"
      },
      "execution_count": 3,
      "outputs": []
    },
    {
      "cell_type": "code",
      "source": [
        "def generateInference(prompt, history, temperature=0.9, max_new_tokens=256, top_p=0.95, repetition_penalty=1.0,):\n",
        "    temperature = float(temperature)\n",
        "    if temperature < 1e-2:\n",
        "        temperature = 1e-2\n",
        "    top_p = float(top_p)\n",
        "\n",
        "    generate_kwargs = dict(\n",
        "        temperature=temperature,\n",
        "        max_new_tokens=max_new_tokens,\n",
        "        top_p=top_p,\n",
        "        repetition_penalty=repetition_penalty,\n",
        "        do_sample=True,\n",
        "        seed=42,\n",
        "    )\n",
        "\n",
        "    formatted_prompt = format_prompt(prompt, history)\n",
        "\n",
        "    stream = client.text_generation(formatted_prompt, **generate_kwargs, stream=False, details=False, return_full_text=False)\n",
        "    return stream"
      ],
      "metadata": {
        "id": "mOfnU57tOwAW"
      },
      "execution_count": 4,
      "outputs": []
    },
    {
      "cell_type": "code",
      "source": [
        "input = \"What's the NVDA financial result?\"\n",
        "history = []"
      ],
      "metadata": {
        "id": "71VxEgF7Oymu"
      },
      "execution_count": 5,
      "outputs": []
    },
    {
      "cell_type": "markdown",
      "source": [
        "# Get the output from Inference method"
      ],
      "metadata": {
        "id": "_y4s3pdmJmq4"
      }
    },
    {
      "cell_type": "code",
      "source": [
        "output = generateInference(input, history)"
      ],
      "metadata": {
        "id": "_G41syWhPcKy"
      },
      "execution_count": 7,
      "outputs": []
    },
    {
      "cell_type": "code",
      "source": [
        "print(output)"
      ],
      "metadata": {
        "colab": {
          "base_uri": "https://localhost:8080/"
        },
        "id": "Oyj3W8DQPeez",
        "outputId": "c6608189-8ee6-4588-b86b-ff5d906f53f0"
      },
      "execution_count": 8,
      "outputs": [
        {
          "output_type": "stream",
          "name": "stdout",
          "text": [
            " NVDA (NVIDIA Corporation) is a technology company that provides graphics processing units (GPUs), system on a chip (SoC) units, and other hardware components for the gaming and professional markets. The company is based in Santa Clara, California, and is listed on the NASDAQ stock exchange with the symbol \"NVDA\".\n",
            "\n",
            "To check the financial results of NVDA, you can visit the company's website (<https://www.nvidia.com/>) or visit a financial news website such as Yahoo Finance (<https://finance.yahoo.com/quote/NVDA>) or Google Finance (<https://finance.google.com/quote/NVDA>). These websites provide up-to-date information on the company's financial results, including its revenue, earnings per share (EPS), and net income. You can also find information on the company's financial performance over time, including its historical financial statements, by searching for \"NVDA financial reports\" on a search engine.\n"
          ]
        }
      ]
    },
    {
      "cell_type": "code",
      "source": [
        "# prompt: text wrap the output\n",
        "\n",
        "from textwrap import TextWrapper\n",
        "\n",
        "wrapper = TextWrapper(width=100)\n",
        "\n",
        "# Assuming 'output' is a string\n",
        "wrapped_output = wrapper.wrap(output)\n",
        "\n",
        "for line in wrapped_output:\n",
        "  print(line)\n"
      ],
      "metadata": {
        "colab": {
          "base_uri": "https://localhost:8080/"
        },
        "id": "fXZex-JBTWCd",
        "outputId": "44b7f982-91d2-40b6-aa13-214c96ba65da"
      },
      "execution_count": 9,
      "outputs": [
        {
          "output_type": "stream",
          "name": "stdout",
          "text": [
            " NVDA (NVIDIA Corporation) is a technology company that provides graphics processing units (GPUs),\n",
            "system on a chip (SoC) units, and other hardware components for the gaming and professional markets.\n",
            "The company is based in Santa Clara, California, and is listed on the NASDAQ stock exchange with the\n",
            "symbol \"NVDA\".  To check the financial results of NVDA, you can visit the company's website\n",
            "(<https://www.nvidia.com/>) or visit a financial news website such as Yahoo Finance\n",
            "(<https://finance.yahoo.com/quote/NVDA>) or Google Finance\n",
            "(<https://finance.google.com/quote/NVDA>). These websites provide up-to-date information on the\n",
            "company's financial results, including its revenue, earnings per share (EPS), and net income. You\n",
            "can also find information on the company's financial performance over time, including its historical\n",
            "financial statements, by searching for \"NVDA financial reports\" on a search engine.\n"
          ]
        }
      ]
    }
  ]
}